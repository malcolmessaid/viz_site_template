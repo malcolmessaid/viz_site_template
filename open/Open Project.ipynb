{
 "cells": [
  {
   "cell_type": "markdown",
   "metadata": {},
   "source": [
    "# Visualizing User-Input Functions\n",
    "##### By Malcolm Essaid\n",
    "1. The goal of my project is to allow  the user to plug in simple functions and for them to be able to see the graph on a cartesien plane of domain [-10,10] and range [-10,10]. My program will hopefully have similar functionality to desmos. I am interested in the porject, because it seems like an interesting problem, and I wanted to see if I could figure it out. \n",
    "\n",
    "2. I won't need to collect any data from outside sources because each time the user plugs in a function, I'll create a new dataset from that function. \n",
    "\n",
    "3. This Juypter notebook won't have any code becuase I don't need any external datasets"
   ]
  },
  {
   "cell_type": "code",
   "execution_count": null,
   "metadata": {
    "collapsed": true
   },
   "outputs": [],
   "source": []
  }
 ],
 "metadata": {
  "kernelspec": {
   "display_name": "Python 3",
   "language": "python",
   "name": "python3"
  },
  "language_info": {
   "codemirror_mode": {
    "name": "ipython",
    "version": 3
   },
   "file_extension": ".py",
   "mimetype": "text/x-python",
   "name": "python",
   "nbconvert_exporter": "python",
   "pygments_lexer": "ipython3",
   "version": "3.6.1"
  }
 },
 "nbformat": 4,
 "nbformat_minor": 2
}
